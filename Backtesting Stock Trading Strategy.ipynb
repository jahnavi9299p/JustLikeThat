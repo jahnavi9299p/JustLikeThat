{
 "cells": [
  {
   "cell_type": "markdown",
   "metadata": {},
   "source": [
    "## Objective: Backtest a stock trading strategy\n",
    "\n",
    "Profit from trade = sell price - buy price\n",
    "Profit % = 100 * (Profit / buy price)\n",
    "\n",
    "1) Generate random price history of stocks\n",
    "- Write a function which generates a pandas dataframe with a single column called \"price\"\n",
    "\n",
    "\n",
    "Method: \n",
    "Assume rate of change of price is normally distributed with Mean = 0 and Std. Deviation = 0.1.\n",
    "                        (price(t+1)-price(t))/price(t)   ~    N(0 ,0.1)\n",
    "\n",
    "price (t = 0) = 1.0\n",
    "Note: Discard the series if any price goes <=0 \n",
    "\n",
    "2) Trading rules are:\n",
    "- if current units purchased > 0:\n",
    "\n",
    "\t(price today - price yesterday < - 0.01), purchase 1 unit\n",
    "\n",
    "\t(price today - price yesterday > 0.11), sell everything\n",
    "\n",
    "- if current units purchased = 0:\n",
    "\n",
    "\t(price today > price yesterday), buy 1 unit\n",
    "\n",
    "Note: If you dont have enough capital left, then cannot purchase more units. For eg, if starting with 100 units of money and purchase 100 units of stock at approximately price 1, then you cannot purchase 1 more. \n",
    "\n",
    "3) Start with initial total net worth of x. Calculate total profits earned. \n",
    "Note : Net worth cannot go <= 0. stop trading when this happens\n",
    "\n",
    "4) Repeat it 100 times to calculate average statistics of above metric\n",
    "\n",
    "5) Simulate the above for different values of x = [1, 10,100,1000] and calculate average profit earned as percent of initial capital and fraction of times you go broke (Net worth = 0 or if you are not able to take a trade)"
   ]
  },
  {
   "cell_type": "code",
   "execution_count": 1,
   "metadata": {},
   "outputs": [],
   "source": [
    "import numpy as np\n",
    "import matplotlib.pyplot as plt"
   ]
  },
  {
   "cell_type": "markdown",
   "metadata": {},
   "source": [
    "### Point 1 "
   ]
  },
  {
   "cell_type": "code",
   "execution_count": 2,
   "metadata": {},
   "outputs": [],
   "source": [
    "class norm1:\n",
    "    def __init__(self, a1, b1, c1):\n",
    "        self.a1 = a1 # Mean\n",
    "        self.b1 = b1 # SD\n",
    "        self.c1 = c1 # Normal Distribution values\n",
    "        \n",
    "    def dist_curve(self):\n",
    "        plt.plot(self.c1, \n",
    "                 1/(self.b1 * np.sqrt(2 * np.pi)) * np.exp( - (self.c1 - self.a1)**2 / (2 * self.b1**2) ),\n",
    "                 linewidth=2,\n",
    "                 color='y')\n",
    "        plt.show()"
   ]
  },
  {
   "cell_type": "markdown",
   "metadata": {},
   "source": [
    "Parameters \n",
    "\n",
    "loc   : [float or array_like] Mean of  the distribution. \n",
    "\n",
    "scale : [float or array_like]Standard Derivation of the distribution. \n",
    "    \n",
    "size  : [int or int tuples]. \n",
    "    \n",
    "Output shape given as (m, n, k) then m*n*k samples are drawn. If size is  None(by default), then a single value is returned. \n",
    "\n",
    "Return :\n",
    "\n",
    "Array of defined shape, filled with  random values following normal distribution."
   ]
  },
  {
   "cell_type": "code",
   "execution_count": 3,
   "metadata": {},
   "outputs": [
    {
     "name": "stderr",
     "output_type": "stream",
     "text": [
      "C:\\Users\\janu\\anaconda3\\lib\\site-packages\\ipykernel_launcher.py:7: MatplotlibDeprecationWarning: \n",
      "The 'normed' kwarg was deprecated in Matplotlib 2.1 and will be removed in 3.1. Use 'density' instead.\n",
      "  import sys\n"
     ]
    },
    {
     "data": {
      "image/png": "[encoded data removed]",
      "text/plain": [
       "<Figure size 432x288 with 1 Axes>"
      ]
     },
     "metadata": {
      "needs_background": "light"
     },
     "output_type": "display_data"
    }
   ],
   "source": [
    "\n",
    "#Vary the mean and SD to generate different plots\n",
    "mean1 = 0\n",
    "sd1 = 0.1\n",
    "\n",
    "c = np.random.normal(mean1, sd1, 3000)\n",
    "        \n",
    "n, bins, patches = plt.hist(c, 100, normed=True) #hist\n",
    "\n",
    "hist1 = norm1(mean1, sd1, bins)\n",
    "plot1 = hist1.dist_curve()\n"
   ]
  },
  {
   "cell_type": "markdown",
   "metadata": {},
   "source": [
    "c is the actual list of normal distribution values with mean of 0 and standard deviation of 0.1"
   ]
  },
  {
   "cell_type": "markdown",
   "metadata": {},
   "source": [
    "Assume rate of change of price is normally distributed with Mean = 0 and  Std. Deviation = 0.1.\n",
    "(price(t+1)-price(t))/price(t)   ~ N(0 ,0.1)\n",
    "\n",
    "price (t = 0) = 1.0\n",
    "Note: Discard the series if any price goes <=0 \n"
   ]
  },
  {
   "cell_type": "code",
   "execution_count": 4,
   "metadata": {},
   "outputs": [
    {
     "data": {
      "text/plain": [
       "3000"
      ]
     },
     "execution_count": 4,
     "metadata": {},
     "output_type": "execute_result"
    }
   ],
   "source": [
    "len(c)"
   ]
  },
  {
   "cell_type": "code",
   "execution_count": 5,
   "metadata": {},
   "outputs": [],
   "source": [
    "#Consolidated function\n",
    "def generate_price():\n",
    "    prices = np.array([1.0] * 3000)\n",
    "    prices = np.array([(prices[i-1] * item) + prices[i-1] for i,item in enumerate(c)])\n",
    "    return prices"
   ]
  },
  {
   "cell_type": "markdown",
   "metadata": {},
   "source": [
    "The generated prices series is non - negative with the rate of price change being a normal distribution of mean = 0 and S.D = 0.1"
   ]
  },
  {
   "cell_type": "markdown",
   "metadata": {},
   "source": [
    "### Point 2 & 3"
   ]
  },
  {
   "cell_type": "markdown",
   "metadata": {},
   "source": [
    "Trading rules are:\n",
    "- if current units purchased > 0:\n",
    "\n",
    "\t(price today - price yesterday < - 0.01), purchase 1 unit\n",
    "\n",
    "\t(price today - price yesterday > 0.11), sell everything\n",
    "\n",
    "- if current units purchased = 0:\n",
    "\t(price today > price yesterday), buy 1 unit\n",
    "\n",
    "Note: if you dont have enough capital left, then cannot purchase more units. For eg, if starting with 100 units of money and purchase 100 units of stock at approximately price 1, then you cannot purchase 1 more. \n"
   ]
  },
  {
   "cell_type": "code",
   "execution_count": 6,
   "metadata": {},
   "outputs": [],
   "source": [
    "def trading(balance):\n",
    "    prices = generate_price()\n",
    "    broke = np.array([0] * len(prices))\n",
    "    stocks = np.array([0] * len(prices))\n",
    "    profits = np.array([0] * len(prices))\n",
    "    pper = np.array([0] * len(prices))\n",
    "    s = 0\n",
    "    for i in range(len(prices)):\n",
    "        if sum(stocks) > 0:\n",
    "            if prices[i] - prices[i-1] < -0.01:\n",
    "                if balance - prices[i] > 0:\n",
    "                    stocks[i] = 1\n",
    "                    balance = balance - prices[i]\n",
    "                else:\n",
    "                    broke[i] = 1\n",
    "            if prices[i] - prices[i-1] > 0.11:\n",
    "                # sell all for profit\n",
    "                profits[i] = (prices[i]*sum(stocks)) - sum(prices * stocks)\n",
    "                pper[i] = profits[i] / (sum(stocks * prices))\n",
    "                balance = balance + (prices[i]*sum(stocks))\n",
    "                stocks = np.array([0] * len(prices))\n",
    "\n",
    "        elif sum(stocks) == 0:\n",
    "            if balance - prices[i] > 0:\n",
    "                stocks[i] = 1\n",
    "                balance = balance - prices[i]\n",
    "    return sum(profits), sum(broke)"
   ]
  },
  {
   "cell_type": "code",
   "execution_count": 7,
   "metadata": {},
   "outputs": [
    {
     "data": {
      "text/plain": [
       "(22, 0)"
      ]
     },
     "execution_count": 7,
     "metadata": {},
     "output_type": "execute_result"
    }
   ],
   "source": [
    "profits, breaks = trading(1000)\n",
    "profits, breaks"
   ]
  },
  {
   "cell_type": "markdown",
   "metadata": {},
   "source": [
    "### Point 4"
   ]
  },
  {
   "cell_type": "markdown",
   "metadata": {},
   "source": [
    "Calculate average profit earned as percent of initial capital and fraction of times you go broke (Net worth =0 or if you are not able to take a trade)"
   ]
  },
  {
   "cell_type": "code",
   "execution_count": 8,
   "metadata": {},
   "outputs": [],
   "source": [
    "def trial(balance):\n",
    "    profits_breaks = [trading(balance) for i in range(0,100)]\n",
    "    p = [i/balance for i,j in profits_breaks]\n",
    "    b = [j/3000 for i,j in profits_breaks]\n",
    "    avg_p = np.mean(p)\n",
    "    avg_b = np.mean(b)\n",
    "    return avg_p, avg_b"
   ]
  },
  {
   "cell_type": "markdown",
   "metadata": {},
   "source": [
    "### Point 5 "
   ]
  },
  {
   "cell_type": "code",
   "execution_count": 9,
   "metadata": {},
   "outputs": [],
   "source": [
    "metrics = [trial(balance) for balance in [1,10,100,1000]]"
   ]
  },
  {
   "cell_type": "code",
   "execution_count": 10,
   "metadata": {},
   "outputs": [
    {
     "name": "stdout",
     "output_type": "stream",
     "text": [
      "[(22.0, 0.0016666666666666672), (2.1999999999999993, 0.0), (0.22, 0.0), (0.02199999999999999, 0.0)]\n"
     ]
    }
   ],
   "source": [
    "print(metrics)"
   ]
  },
  {
   "cell_type": "markdown",
   "metadata": {},
   "source": [
    "### Balance 1\n",
    "Avg percentage of profit = 22.0%\n",
    "Avg breaks fraction = 0.0016\n",
    "\n",
    "### Balance 10\n",
    "AvgAvg percentage of profit = 2.1999%\n",
    "Avg breaks fraction = 0.00\n",
    "\n",
    "### Balance 100\n",
    "AvgAvg percentage of profit = 0.22%\n",
    "Avg breaks fraction = 0.0\n",
    "\n",
    "### Balance 1000\n",
    "AvgAvg percentage of profit = 0.02199%\n",
    "Avg breaks fraction = 0.0"
   ]
  },
  {
   "cell_type": "code",
   "execution_count": null,
   "metadata": {},
   "outputs": [],
   "source": []
  }
 ],
 "metadata": {
  "kernelspec": {
   "display_name": "Python 3",
   "language": "python",
   "name": "python3"
  },
  "language_info": {
   "codemirror_mode": {
    "name": "ipython",
    "version": 3
   },
   "file_extension": ".py",
   "mimetype": "text/x-python",
   "name": "python",
   "nbconvert_exporter": "python",
   "pygments_lexer": "ipython3",
   "version": "3.7.6"
  }
 },
 "nbformat": 4,
 "nbformat_minor": 4
}
